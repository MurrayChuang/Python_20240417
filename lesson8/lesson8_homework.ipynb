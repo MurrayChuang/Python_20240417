{
 "cells": [
  {
   "cell_type": "markdown",
   "metadata": {},
   "source": [
    "# 輸入:\n",
    "\n",
    "* 請輸入姓名:xxxx\n",
    "* 請輸入身高(cm):\n",
    "* 請輸入體重(kg):\n",
    "\n",
    "# 請使用自訂的function\n",
    "\n",
    "* 建立bmi的function,會傳出bmi\n",
    "* 建立get_status,會傳出字串\n",
    "* 可以使用pypi\n",
    "\n",
    "# 輸出:\n",
    "\n",
    "* xxxx,您的BMI:25.52\n",
    "* xxxx,您的體重過重\n",
    "\n",
    "# 錯誤:\n",
    "\n",
    "* 格式錯誤:xxxxxxxxxxxxx\n",
    "\n"
   ]
  }
 ],
 "metadata": {
  "kernelspec": {
   "display_name": "Python 3",
   "language": "python",
   "name": "python3"
  },
  "language_info": {
   "name": "python",
   "version": "3.10.14"
  }
 },
 "nbformat": 4,
 "nbformat_minor": 2
}
