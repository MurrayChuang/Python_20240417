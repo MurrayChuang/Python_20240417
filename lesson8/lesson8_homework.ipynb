{
 "cells": [
  {
   "cell_type": "markdown",
   "metadata": {},
   "source": [
    "# 輸入:\n",
    "\n",
    "* 請輸入姓名:xxxx\n",
    "* 請輸入身高(cm):\n",
    "* 請輸入體重(kg):\n",
    "\n",
    "# 請使用自訂的function\n",
    "\n",
    "* 建立bmi的function,會傳出bmi\n",
    "* 建立get_status,會傳出字串\n",
    "* 可以使用pypi\n",
    "\n",
    "# 輸出:\n",
    "\n",
    "* xxxx,您的BMI:25.52\n",
    "* xxxx,您的體重過重\n",
    "\n",
    "# 錯誤:\n",
    "\n",
    "* 格式錯誤:xxxxxxxxxxxxx\n",
    "\n"
   ]
  },
  {
   "cell_type": "code",
   "execution_count": null,
   "metadata": {},
   "outputs": [],
   "source": [
    "try:\n",
    "    name = input('請輸入姓名:')\n",
    "    height = float(input('請輸入身高(cm):')) \n",
    "    if height < 120 or height > 230:\n",
    "        raise Exception(\"身高必須大於120同時小於230\")\n",
    "    weight = float(input('請輸入體重(40~170)(kg):'))\n",
    "    if weight < 40 or weight > 170:\n",
    "        raise Exception(\"體重必須大於40同時小於170\")\n",
    "    bmi = weight / (height / 100) ** 2\n",
    "    print(f'{name}, 您的BMI: {round(bmi,ndigits=2)}')\n",
    "    if bmi < 18.5:\n",
    "        result = '過輕'\n",
    "    elif bmi < 24:\n",
    "        result = '正常'\n",
    "    elif bmi < 27:\n",
    "        result = '過重'\n",
    "    elif bmi < 30:\n",
    "        result = '輕度肥胖'\n",
    "    elif bmi < 35:\n",
    "        result = '中度肥胖'\n",
    "    else:\n",
    "        result = '重度肥胖'\n",
    "    print (f\"您的體重:{result}\")\n",
    "except Exception as e:\n",
    "    print(f'錯誤: {e}')"
   ]
  },
  {
   "cell_type": "code",
   "execution_count": 6,
   "metadata": {},
   "outputs": [
    {
     "name": "stdout",
     "output_type": "stream",
     "text": [
      "請輸入身高(cm):請輸入體重(kg):pig, 您的BMI: 24.98\n",
      "pig, 您的體重: 過重\n"
     ]
    }
   ],
   "source": [
    "import pyinputplus as pyip\n",
    "\n",
    "def bmi(weight:float , height:float)->float:\n",
    "    return weight / (height / 100) ** 2\n",
    "\n",
    "def get_status(bmi:float)->str:\n",
    "    if bmi < 18.5:\n",
    "        result = '過輕'\n",
    "    elif bmi < 24:\n",
    "        result = '正常'\n",
    "    elif bmi < 27:\n",
    "        result = '過重'\n",
    "    elif bmi < 30:\n",
    "        result = '輕度肥胖'\n",
    "    elif bmi < 35:\n",
    "        result = '中度肥胖'\n",
    "    else:\n",
    "        result = '重度肥胖'\n",
    "    return result\n",
    "name = input('請輸入姓名:')\n",
    "height = pyip.inputFloat('請輸入身高(cm):') \n",
    "weight = pyip.inputFloat('請輸入體重(kg):') \n",
    "print(f'{name}, 您的BMI: {bmi(weight,height):.2f}')\n",
    "print(f'{name}, 您的體重: {get_status(bmi(weight,height))}')\n"
   ]
  },
  {
   "cell_type": "code",
   "execution_count": null,
   "metadata": {},
   "outputs": [],
   "source": [
    "import pyinputplus as pyip\n",
    "\n",
    "def bmi(weight: float, height: float) -> float:\n",
    "    return weight / (height / 100) ** 2\n",
    "\n",
    "def get_status(bmi: float) -> str:\n",
    "    if bmi < 18.5:\n",
    "        result = '過輕'\n",
    "    elif bmi < 24:\n",
    "        result = '正常'\n",
    "    elif bmi < 27:\n",
    "        result = '過重'\n",
    "    elif bmi < 30:\n",
    "        result = '輕度肥胖'\n",
    "    elif bmi < 35:\n",
    "        result = '中度肥胖'\n",
    "    else:\n",
    "        result = '重度肥胖'\n",
    "    return result\n",
    "\n",
    "name = input('請輸入姓名:')\n",
    "height = pyip.inputFloat('請輸入身高(cm):', min = 1, max = 300) \n",
    "weight = pyip.inputFloat('請輸入體重(kg):', min = 1, max = 500) \n",
    "bmi_value = bmi(weight, height)\n",
    "print(f'{name}, 您的BMI: {bmi_value:.2f}')\n",
    "print(f'{name}, 您的體重: {get_status(bmi_value)}')"
   ]
  }
 ],
 "metadata": {
  "kernelspec": {
   "display_name": "Python 3",
   "language": "python",
   "name": "python3"
  },
  "language_info": {
   "codemirror_mode": {
    "name": "ipython",
    "version": 3
   },
   "file_extension": ".py",
   "mimetype": "text/x-python",
   "name": "python",
   "nbconvert_exporter": "python",
   "pygments_lexer": "ipython3",
   "version": "3.10.14"
  }
 },
 "nbformat": 4,
 "nbformat_minor": 2
}
