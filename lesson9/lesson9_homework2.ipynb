{
 "cells": [
  {
   "cell_type": "markdown",
   "metadata": {},
   "source": [
    "## 建立DataClass BMI\n",
    "## 建立Fields-> name , height , weight\n",
    "## 建立property->bmi \n",
    "## 建立實體方法 def status(self) -> str\n",
    "\n",
    "### 輸入\n",
    "- 請輸入姓名:\n",
    "- 請輸入身高:\n",
    "- 請輸入體重:\n",
    "\n",
    "### 輸出\n",
    "- xxx您好:\n",
    "- 您的bmi值是24.24 \n",
    "- 您的體重:正常"
   ]
  }
 ],
 "metadata": {
  "kernelspec": {
   "display_name": "Python 3",
   "language": "python",
   "name": "python3"
  },
  "language_info": {
   "name": "python",
   "version": "3.10.14"
  }
 },
 "nbformat": 4,
 "nbformat_minor": 2
}
