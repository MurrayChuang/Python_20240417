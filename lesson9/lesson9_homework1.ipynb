{
 "cells": [
  {
   "cell_type": "markdown",
   "metadata": {},
   "source": [
    "## 建立class BMI\n",
    "## 建立attribute-> name , height , weight\n",
    "## 建立property->bmi \n",
    "## 建立實體方法 def status(self) -> str\n",
    "\n",
    "### 輸入\n",
    "- 請輸入姓名:\n",
    "- 請輸入身高:\n",
    "- 請輸入體重:\n",
    "\n",
    "### 輸出\n",
    "- xxx您好:\n",
    "- 您的bmi值是24.24 \n",
    "- 您的體重:正常"
   ]
  },
  {
   "cell_type": "code",
   "execution_count": 3,
   "metadata": {},
   "outputs": [
    {
     "name": "stdout",
     "output_type": "stream",
     "text": [
      "請輸入身高(cm):請輸入體重(kg):"
     ]
    },
    {
     "ename": "ValueError",
     "evalue": "Unknown format code 'd' for object of type 'float'",
     "output_type": "error",
     "traceback": [
      "\u001b[0;31m---------------------------------------------------------------------------\u001b[0m",
      "\u001b[0;31mValueError\u001b[0m                                Traceback (most recent call last)",
      "Cell \u001b[0;32mIn[3], line 46\u001b[0m\n\u001b[1;32m     43\u001b[0m         \u001b[38;5;28;01mreturn\u001b[39;00m result\n\u001b[1;32m     45\u001b[0m user_bmi \u001b[38;5;241m=\u001b[39m BMI(name,height,weight)\n\u001b[0;32m---> 46\u001b[0m \u001b[38;5;28;43mprint\u001b[39;49m\u001b[43m(\u001b[49m\u001b[43muser_bmi\u001b[49m\u001b[43m)\u001b[49m\n",
      "Cell \u001b[0;32mIn[3], line 18\u001b[0m, in \u001b[0;36mBMI.__repr__\u001b[0;34m(self)\u001b[0m\n\u001b[1;32m     16\u001b[0m \u001b[38;5;28;01mdef\u001b[39;00m \u001b[38;5;21m__repr__\u001b[39m(\u001b[38;5;28mself\u001b[39m):\n\u001b[1;32m     17\u001b[0m     message \u001b[38;5;241m=\u001b[39m \u001b[38;5;124mf\u001b[39m\u001b[38;5;124m\"\u001b[39m\u001b[38;5;132;01m{\u001b[39;00m\u001b[38;5;28mself\u001b[39m\u001b[38;5;241m.\u001b[39mname\u001b[38;5;132;01m}\u001b[39;00m\u001b[38;5;124m,您好:\u001b[39m\u001b[38;5;130;01m\\n\u001b[39;00m\u001b[38;5;124m\"\u001b[39m\n\u001b[0;32m---> 18\u001b[0m     message \u001b[38;5;241m+\u001b[39m\u001b[38;5;241m=\u001b[39m \u001b[38;5;124mf\u001b[39m\u001b[38;5;124m\"\u001b[39m\u001b[38;5;124m您的bmi值是:\u001b[39m\u001b[38;5;132;01m{\u001b[39;00m\u001b[38;5;28mself\u001b[39m\u001b[38;5;241m.\u001b[39mbmi\u001b[38;5;132;01m:\u001b[39;00m\u001b[38;5;124m.2d\u001b[39m\u001b[38;5;132;01m}\u001b[39;00m\u001b[38;5;130;01m\\n\u001b[39;00m\u001b[38;5;124m\"\u001b[39m\n\u001b[1;32m     19\u001b[0m     message \u001b[38;5;241m+\u001b[39m\u001b[38;5;241m=\u001b[39m \u001b[38;5;124mf\u001b[39m\u001b[38;5;124m\"\u001b[39m\u001b[38;5;124m您的體重:\u001b[39m\u001b[38;5;132;01m{\u001b[39;00m\u001b[38;5;28mself\u001b[39m\u001b[38;5;241m.\u001b[39mstatus\u001b[38;5;132;01m}\u001b[39;00m\u001b[38;5;130;01m\\n\u001b[39;00m\u001b[38;5;124m\"\u001b[39m\n\u001b[1;32m     20\u001b[0m     \u001b[38;5;28;01mreturn\u001b[39;00m message\n",
      "\u001b[0;31mValueError\u001b[0m: Unknown format code 'd' for object of type 'float'"
     ]
    }
   ],
   "source": [
    "import pyinputplus as pyip\n",
    "\n",
    "name = input('請輸入姓名:')\n",
    "height = pyip.inputFloat('請輸入身高(cm):', min=1, max=300)\n",
    "weight = pyip.inputFloat('請輸入體重(kg):', min=1, max=500)\n",
    "\n",
    "\n",
    "class BMI():\n",
    "\n",
    "    def __init__(self, n: str, h: float, w: float):\n",
    "        super().__init__()\n",
    "        self.name = n  #attribute\n",
    "        self.height = h  #attribute\n",
    "        self.weight = w  #attribute\n",
    "\n",
    "    def __repr__(self):\n",
    "        message = f\"{self.name}您好:\\n\"\n",
    "        message += f\"您的bmi值是{self.bmi:.2f}\\n\"\n",
    "        message += f\"您的體重:{self.status()}\\n\"\n",
    "        return message\n",
    "\n",
    "    #建立property的語言\n",
    "\n",
    "    @property\n",
    "    def bmi(self):\n",
    "        return weight / (height / 100)**2\n",
    "\n",
    "    #建立實體方法\n",
    "\n",
    "    def status(self) -> str:\n",
    "        bmi_value = self.bmi\n",
    "        if bmi_value < 18.5:\n",
    "            result = '過輕'\n",
    "        elif bmi_value < 24:\n",
    "            result = '正常'\n",
    "        elif bmi_value < 27:\n",
    "            result = '過重'\n",
    "        elif bmi_value < 30:\n",
    "            result = '輕度肥胖'\n",
    "        elif bmi_value < 35:\n",
    "            result = '中度肥胖'\n",
    "        else:\n",
    "            result = '重度肥胖'\n",
    "        return result\n",
    "\n",
    "\n",
    "user_bmi = BMI(name, height, weight)\n",
    "print(user_bmi)\n",
    "\n"
   ]
  }
 ],
 "metadata": {
  "kernelspec": {
   "display_name": "Python 3",
   "language": "python",
   "name": "python3"
  },
  "language_info": {
   "codemirror_mode": {
    "name": "ipython",
    "version": 3
   },
   "file_extension": ".py",
   "mimetype": "text/x-python",
   "name": "python",
   "nbconvert_exporter": "python",
   "pygments_lexer": "ipython3",
   "version": "3.10.14"
  }
 },
 "nbformat": 4,
 "nbformat_minor": 2
}
