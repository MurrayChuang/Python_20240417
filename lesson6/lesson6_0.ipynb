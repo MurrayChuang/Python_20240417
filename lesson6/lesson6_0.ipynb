{
 "cells": [
  {
   "cell_type": "code",
   "execution_count": 1,
   "metadata": {},
   "outputs": [
    {
     "name": "stdout",
     "output_type": "stream",
     "text": [
      "123, 您的BMI: 7.93\n"
     ]
    }
   ],
   "source": [
    "try:\n",
    "    name = input('請輸入姓名:')\n",
    "    height = float(input('請輸入身高(cm):'))\n",
    "    weight = float(input('請輸入體重(kg):'))\n",
    "    \n",
    "    bmi = weight / ((height / 100) ** 2)\n",
    "    print(f'{name}, 您的BMI: {round(bmi, ndigits=2)}')\n",
    "\n",
    "except Exception as e:\n",
    "    print(f'格式錯誤: {e}')"
   ]
  },
  {
   "cell_type": "code",
   "execution_count": null,
   "metadata": {},
   "outputs": [],
   "source": [
    "height = float(input('請輸入身高(120~200)(cm):'))"
   ]
  },
  {
   "cell_type": "code",
   "execution_count": 2,
   "metadata": {},
   "outputs": [
    {
     "name": "stdout",
     "output_type": "stream",
     "text": [
      "身高正常\n",
      "1023, 您的BMI: 5.65\n"
     ]
    }
   ],
   "source": [
    "try:\n",
    "    name = input('請輸入姓名:')\n",
    "    height = float(input('請輸入身高(cm):'))\n",
    "    if height >= 120:\n",
    "        if height <= 230:\n",
    "            print(\"身高正常\")\n",
    "    weight = float(input('請輸入體重(kg):'))\n",
    "    \n",
    "    bmi = weight / ((height / 100) ** 2)\n",
    "    print(f'{name}, 您的BMI: {round(bmi, ndigits=2)}')\n",
    "\n",
    "except Exception as e:\n",
    "    print(f'格式錯誤: {e}')"
   ]
  },
  {
   "cell_type": "code",
   "execution_count": 9,
   "metadata": {},
   "outputs": [
    {
     "data": {
      "text/plain": [
       "True"
      ]
     },
     "execution_count": 9,
     "metadata": {},
     "output_type": "execute_result"
    }
   ],
   "source": [
    "not True\n",
    "not False"
   ]
  },
  {
   "cell_type": "code",
   "execution_count": null,
   "metadata": {},
   "outputs": [],
   "source": [
    "try:\n",
    "    name = input('請輸入姓名:')\n",
    "    height = float(input('請輸入身高(cm):'))\n",
    "    if height < 120:\n",
    "        print(\"身高不正常\")\n",
    "    if height > 230:\n",
    "        print(\"身高不正常\")\n",
    "    weight = float(input('請輸入體重(kg):'))\n",
    "    \n",
    "    bmi = weight / ((height / 100) ** 2)\n",
    "    print(f'{name}, 您的BMI: {round(bmi, ndigits=2)}')\n",
    "\n",
    "except Exception as e:\n",
    "    print(f'格式錯誤: {e}')"
   ]
  },
  {
   "cell_type": "code",
   "execution_count": null,
   "metadata": {},
   "outputs": [],
   "source": [
    "height = float(input('請輸入身高(cm):'))\n",
    "if height >= 120:\n",
    "    if height <= 230:\n",
    "        print(\"身高正常\")"
   ]
  },
  {
   "cell_type": "code",
   "execution_count": 4,
   "metadata": {},
   "outputs": [],
   "source": [
    "height = float(input('請輸入身高(cm):'))\n",
    "if height >= 120 and height <= 230:\n",
    "    print(\"身高正常\")"
   ]
  },
  {
   "cell_type": "code",
   "execution_count": 7,
   "metadata": {},
   "outputs": [
    {
     "name": "stdout",
     "output_type": "stream",
     "text": [
      "身高不正常\n"
     ]
    }
   ],
   "source": [
    "height = float(input('請輸入身高(cm):'))\n",
    "if height < 120 or height > 230:\n",
    "    print(\"身高不正常\")"
   ]
  }
 ],
 "metadata": {
  "kernelspec": {
   "display_name": "Python 3",
   "language": "python",
   "name": "python3"
  },
  "language_info": {
   "codemirror_mode": {
    "name": "ipython",
    "version": 3
   },
   "file_extension": ".py",
   "mimetype": "text/x-python",
   "name": "python",
   "nbconvert_exporter": "python",
   "pygments_lexer": "ipython3",
   "version": "3.10.14"
  }
 },
 "nbformat": 4,
 "nbformat_minor": 2
}
