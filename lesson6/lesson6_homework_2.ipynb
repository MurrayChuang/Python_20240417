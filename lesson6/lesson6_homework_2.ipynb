{
 "cells": [
  {
   "cell_type": "code",
   "execution_count": null,
   "metadata": {},
   "outputs": [],
   "source": [
    "#請使用pyInputPlus修改以下程式\n",
    "try:\n",
    "    name = input('請輸入姓名:')\n",
    "    height = float(input('請輸入身高(120~230)(cm):')) \n",
    "    if height<120 or height>230:\n",
    "        raise Exception(\"身高必需大於120同時小於230\")    \n",
    "    weight = float(input('請輸入體重(40~170)(kg):'))\n",
    "    if weight<40 or weight>170:\n",
    "        raise Exception(\"體重必需大於40同時小於170\")\n",
    "    bmi = weight / (height / 100) ** 2\n",
    "    print(f'{name}, 您的BMI: {round(bmi,ndigits=2)}')\n",
    "except Exception as e:\n",
    "    print(f'錯誤: {e}')"
   ]
  },
  {
   "cell_type": "code",
   "execution_count": 8,
   "metadata": {},
   "outputs": [
    {
     "name": "stdout",
     "output_type": "stream",
     "text": [
      "\n",
      "請輸入身高(120~230)(cm):\n",
      "請輸入體重(40~170)(kg):\n",
      "123, 您的BMI: 72.71\n"
     ]
    }
   ],
   "source": [
    "import pyinputplus as pyip\n",
    "try:\n",
    "    name = input('請輸入姓名:')\n",
    "    # score = pyip.inputInt(\"請輸入學生分數(最高300分)\",min=0,max=300)\n",
    "    height = pyip.inputFloat('\\n請輸入身高(120~230)(cm):', min = 120, max = 230) \n",
    "    # if height<120 or height>230:\n",
    "    #     raise Exception(\"身高必需大於120同時小於230\")    \n",
    "    weight = pyip.inputFloat('\\n請輸入體重(40~170)(kg):', min = 40, max = 170)\n",
    "    # if weight<40 or weight>170:\n",
    "    #     raise Exception(\"體重必需大於40同時小於170\")\n",
    "    bmi = weight / (height / 100) ** 2\n",
    "    print(f'\\n{name}, 您的BMI: {round(bmi,ndigits=2)}')\n",
    "except Exception as e:\n",
    "    print(f'錯誤: {e}')"
   ]
  },
  {
   "cell_type": "code",
   "execution_count": null,
   "metadata": {},
   "outputs": [],
   "source": []
  }
 ],
 "metadata": {
  "kernelspec": {
   "display_name": "Python 3",
   "language": "python",
   "name": "python3"
  },
  "language_info": {
   "codemirror_mode": {
    "name": "ipython",
    "version": 3
   },
   "file_extension": ".py",
   "mimetype": "text/x-python",
   "name": "python",
   "nbconvert_exporter": "python",
   "pygments_lexer": "ipython3",
   "version": "3.10.14"
  }
 },
 "nbformat": 4,
 "nbformat_minor": 2
}
