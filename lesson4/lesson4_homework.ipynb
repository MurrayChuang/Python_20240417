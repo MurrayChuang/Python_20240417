{
 "cells": [
  {
   "cell_type": "markdown",
   "metadata": {},
   "source": [
    "## 輸入:(可以輸入整數和浮點數)\n",
    "* 請輸入梯形的上底(公分):任意數\n",
    "* 請輸入梯形的下底(公分):任意數\n",
    "* 請輸入梯形的高(公分):任意數\n",
    "## 輸出:\n",
    "* 梯形的上底15公分,下底10公分,高2公分\n",
    "* 梯形的面積:xxx平方公分"
   ]
  },
  {
   "cell_type": "code",
   "execution_count": null,
   "metadata": {},
   "outputs": [],
   "source": [
    "upper = eval(input(\"輸入梯形的上底(公分): \"))\n",
    "lower = eval(input(\"輸入梯形的下底(公分): \"))\n",
    "height = eval(input(\"輸入梯形的高(公分): \"))\n",
    "\n",
    "print(f\"梯形的上底{upper}公分,下底{lower}公分,高{height}公分\")\n",
    "print(f\"梯形的面積:{(upper + lower) * height / 2}平方公分\")\n"
   ]
  }
 ],
 "metadata": {
  "kernelspec": {
   "display_name": "Python 3",
   "language": "python",
   "name": "python3"
  },
  "language_info": {
   "name": "python",
   "version": "3.10.14"
  }
 },
 "nbformat": 4,
 "nbformat_minor": 2
}
