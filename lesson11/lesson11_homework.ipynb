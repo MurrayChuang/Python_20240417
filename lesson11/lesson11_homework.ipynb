{
 "cells": [
  {
   "cell_type": "code",
   "execution_count": null,
   "metadata": {},
   "outputs": [],
   "source": [
    "from pydantic import BaseModel,Field\n",
    "\n",
    "\n",
    "class Site(BaseModel):\n",
    "    site_name:str = Field(alias=\"sitename\")\n",
    "    county:str\n",
    "    aqi:int\n",
    "    status:str\n",
    "\n",
    "class AQI(BaseModel):\n",
    "    records:list[Site]\n",
    "\n",
    "\n",
    "with open('data.json',encoding='utf-8') as file:\n",
    "    aqi:AQI = AQI.model_validate_json(file.read())\n",
    "\n",
    "data_list:list[Site] = aqi.records\n",
    "for item in data_list:\n",
    "    print(item)"
   ]
  }
 ],
 "metadata": {
  "kernelspec": {
   "display_name": "Python 3",
   "language": "python",
   "name": "python3"
  },
  "language_info": {
   "name": "python",
   "version": "3.10.14"
  }
 },
 "nbformat": 4,
 "nbformat_minor": 2
}
