{
 "cells": [
  {
   "cell_type": "code",
   "execution_count": 9,
   "metadata": {},
   "outputs": [
    {
     "name": "stdout",
     "output_type": "stream",
     "text": [
      "{'people': [{'name': 'Scott', 'website': 'stackabuse.com', 'from': 'Nebraska'}, {'name': 'Larry', 'website': 'google.com', 'from': 'Michigan'}]}\n"
     ]
    }
   ],
   "source": [
    "import json\n",
    "with open('data.json',encoding='utf-8') as file:\n",
    "    data = json.loads(file.read())\n",
    "print(data)"
   ]
  },
  {
   "cell_type": "code",
   "execution_count": 25,
   "metadata": {},
   "outputs": [
    {
     "name": "stdout",
     "output_type": "stream",
     "text": [
      "name='Scott' website='stackabuse.com' state='Nebraska'\n",
      "name='Larry' website='google.com' state='Michigan'\n"
     ]
    }
   ],
   "source": [
    "from pydantic import BaseModel, Field\n",
    "\n",
    "\n",
    "class Person(BaseModel):\n",
    "    name: str\n",
    "    website: str\n",
    "    state: str = Field(alias=\"from\")\n",
    "\n",
    "\n",
    "class PeopleData(BaseModel):\n",
    "    people: list[Person]\n",
    "\n",
    "\n",
    "with open('data.json', encoding='utf-8') as file:\n",
    "    people_data: PeopleData = PeopleData.model_validate_json(file.read())\n",
    "\n",
    "for person in people_data.people:\n",
    "    print(person)\n"
   ]
  },
  {
   "cell_type": "code",
   "execution_count": 24,
   "metadata": {},
   "outputs": [
    {
     "name": "stdout",
     "output_type": "stream",
     "text": [
      "Scott\n",
      "Larry\n",
      "stackabuse.com\n",
      "google.com\n"
     ]
    }
   ],
   "source": [
    "#哲哲的題目  先列印第一個人名稱 第二個人名稱 再列印第一個人網址  第二個人網址\n",
    "\n",
    "from pydantic import BaseModel,Field\n",
    "\n",
    "\n",
    "class Person(BaseModel):\n",
    "    name:str \n",
    "    website:str\n",
    "    state:str = Field(alias=\"from\")\n",
    "\n",
    "class PeopleData(BaseModel):\n",
    "    people:list[Person]\n",
    "\n",
    "\n",
    "with open('data.json',encoding='utf-8') as file:\n",
    "    people_data:PeopleData = PeopleData.model_validate_json(file.read())\n",
    "\n",
    "for person in people_data.people:\n",
    "    print(person.name)\n",
    "for person in people_data.people:\n",
    "    print(person.website)"
   ]
  }
 ],
 "metadata": {
  "kernelspec": {
   "display_name": "Python 3",
   "language": "python",
   "name": "python3"
  },
  "language_info": {
   "codemirror_mode": {
    "name": "ipython",
    "version": 3
   },
   "file_extension": ".py",
   "mimetype": "text/x-python",
   "name": "python",
   "nbconvert_exporter": "python",
   "pygments_lexer": "ipython3",
   "version": "3.10.14"
  }
 },
 "nbformat": 4,
 "nbformat_minor": 2
}
