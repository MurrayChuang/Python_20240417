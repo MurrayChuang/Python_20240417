{
 "cells": [
  {
   "cell_type": "code",
   "execution_count": 2,
   "metadata": {},
   "outputs": [
    {
     "data": {
      "text/plain": [
       "True"
      ]
     },
     "execution_count": 2,
     "metadata": {},
     "output_type": "execute_result"
    }
   ],
   "source": [
    "import google.generativeai as genai\n",
    "from dotenv import load_dotenv\n",
    "load_dotenv()"
   ]
  },
  {
   "cell_type": "code",
   "execution_count": 4,
   "metadata": {},
   "outputs": [
    {
     "data": {
      "text/plain": [
       "True"
      ]
     },
     "execution_count": 4,
     "metadata": {},
     "output_type": "execute_result"
    }
   ],
   "source": [
    "import google.generativeai as genai\n",
    "from dotenv import load_dotenv\n",
    "import os\n",
    "load_dotenv()\n",
    "\n",
    "#os.environ['Gemini_API_KEY']"
   ]
  },
  {
   "cell_type": "code",
   "execution_count": 5,
   "metadata": {},
   "outputs": [
    {
     "name": "stdout",
     "output_type": "stream",
     "text": [
      "**學習演算法的步驟：**\n",
      "\n",
      "**1. 建立基礎：**\n",
      "\n",
      "* 學習資料結構，例如陣列、連結串列、樹狀結構和圖形。\n",
      "* 了解演算法的基本概念，例如時間複雜度、空間複雜度和最佳化。\n",
      "\n",
      "**2. 核心演算法：**\n",
      "\n",
      "* 搜尋：線性搜尋、二進搜尋、跳躍搜尋\n",
      "* 排序：冒泡排序、快速排序、歸併排序\n",
      "* 樹狀結構：二元搜尋樹、B 樹、紅黑樹\n",
      "* 圖形：深度優先搜尋、廣度優先搜尋、最短路徑演算法\n",
      "\n",
      "**3. 進階演算法：**\n",
      "\n",
      "* 動態規劃：斐波那契數列、最長公共子序列\n",
      "* 貪婪演算法：活動選擇問題、貨幣兌換\n",
      "* 回溯法：N 皇后問題、0-1 背包問題\n",
      "* 分治法：快速排序、歸併排序\n",
      "\n",
      "**4. 資料結構與演算法 (DSA) 關係：**\n",
      "\n",
      "* 了解資料結構如何在演算法中發揮作用。\n",
      "* 學習使用適當的資料結構來優化演算法效能。\n",
      "\n",
      "**5. 實務應用：**\n",
      "\n",
      "* 在實際專案中實作演算法。\n",
      "* 探索演算法在各種領域的應用，例如機器學習和資料科學。\n",
      "\n",
      "**資源：**\n",
      "\n",
      "* **課程：**\n",
      "    * LeetCode 演算法課程\n",
      "    * HackerRank 演算法挑戰\n",
      "    * Coursera 演算法課程\n",
      "* **書籍：**\n",
      "    * 《演算法導論》\n",
      "    * 《演算法筆記》\n",
      "    * 《演算法思維》\n",
      "* **線上評判系統：**\n",
      "    * LeetCode\n",
      "    * HackerRank\n",
      "    * CodeChef\n",
      "\n",
      "**提示：**\n",
      "\n",
      "* 從簡單的演算法開始，逐步提升難度。\n",
      "* 練習解決演算法問題，並嘗試自己編寫演算法。\n",
      "* 參加演算法競賽或挑戰來測試你的技能。\n",
      "* 保持耐心和堅持不懈，學習演算法需要時間和努力。\n"
     ]
    }
   ],
   "source": [
    "import google.generativeai as genai\n",
    "from dotenv import load_dotenv\n",
    "import os\n",
    "load_dotenv()\n",
    "\n",
    "genai.configure(api_key=os.environ['Gemini_API_KEY'])\n",
    "model = genai.GenerativeModel('gemini-pro')\n",
    "response = model.generate_content('我想要學習`演算法`')\n",
    "print(response.text)"
   ]
  }
 ],
 "metadata": {
  "kernelspec": {
   "display_name": "Python 3",
   "language": "python",
   "name": "python3"
  },
  "language_info": {
   "codemirror_mode": {
    "name": "ipython",
    "version": 3
   },
   "file_extension": ".py",
   "mimetype": "text/x-python",
   "name": "python",
   "nbconvert_exporter": "python",
   "pygments_lexer": "ipython3",
   "version": "3.10.14"
  }
 },
 "nbformat": 4,
 "nbformat_minor": 2
}
